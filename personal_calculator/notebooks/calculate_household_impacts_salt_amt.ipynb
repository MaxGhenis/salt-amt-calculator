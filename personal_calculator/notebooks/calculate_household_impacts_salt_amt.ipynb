{
 "cells": [
  {
   "cell_type": "code",
   "execution_count": 1,
   "metadata": {},
   "outputs": [],
   "source": [
    "import pandas as pd\n",
    "import numpy as np\n",
    "import plotly.express as px\n",
    "import plotly.graph_objects as go"
   ]
  },
  {
   "cell_type": "code",
   "execution_count": 2,
   "metadata": {},
   "outputs": [
    {
     "name": "stderr",
     "output_type": "stream",
     "text": [
      "/Users/pavelmakarchuk/anaconda3/envs/pe/lib/python3.10/site-packages/tqdm/auto.py:21: TqdmWarning: IProgress not found. Please update jupyter and ipywidgets. See https://ipywidgets.readthedocs.io/en/stable/user_install.html\n",
      "  from .autonotebook import tqdm as notebook_tqdm\n"
     ]
    }
   ],
   "source": [
    "from policyengine_us import Simulation\n",
    "\n",
    "\n",
    "situation = {\n",
    "    \"people\": {\n",
    "        \"you\": {\n",
    "            \"age\": {\"2025\": 40, \"2026\": 40},\n",
    "            \"capital_gains_before_response\": {\"2025\": 200000, \"2026\": 200000},\n",
    "            \"real_estate_taxes\": {\"2025\": 50000, \"2026\": 50000},\n",
    "        },\n",
    "        \"your partner\": {\"age\": {\"2025\": 40, \"2026\": 40}},\n",
    "        \"your first dependent\": {\"age\": {\"2025\": 10, \"2026\": 10}},\n",
    "        \"your second dependent\": {\"age\": {\"2025\": 10, \"2026\": 10}},\n",
    "    },\n",
    "    \"families\": {\n",
    "        \"your family\": {\n",
    "            \"members\": [\n",
    "                \"you\",\n",
    "                \"your partner\",\n",
    "                \"your first dependent\",\n",
    "                \"your second dependent\",\n",
    "            ]\n",
    "        }\n",
    "    },\n",
    "    \"marital_units\": {\n",
    "        \"your marital unit\": {\"members\": [\"you\", \"your partner\"]},\n",
    "        \"your first dependent's marital unit\": {\n",
    "            \"members\": [\"your first dependent\"],\n",
    "            \"marital_unit_id\": {\"2025\": 1, \"2026\": 1},\n",
    "        },\n",
    "        \"your second dependent's marital unit\": {\n",
    "            \"members\": [\"your second dependent\"],\n",
    "            \"marital_unit_id\": {\"2025\": 2, \"2026\": 2},\n",
    "        },\n",
    "    },\n",
    "    \"tax_units\": {\n",
    "        \"your tax unit\": {\n",
    "            \"members\": [\n",
    "                \"you\",\n",
    "                \"your partner\",\n",
    "                \"your first dependent\",\n",
    "                \"your second dependent\",\n",
    "            ]\n",
    "        }\n",
    "    },\n",
    "    \"spm_units\": {\n",
    "        \"your household\": {\n",
    "            \"members\": [\n",
    "                \"you\",\n",
    "                \"your partner\",\n",
    "                \"your first dependent\",\n",
    "                \"your second dependent\",\n",
    "            ]\n",
    "        }\n",
    "    },\n",
    "    \"households\": {\n",
    "        \"your household\": {\n",
    "            \"members\": [\n",
    "                \"you\",\n",
    "                \"your partner\",\n",
    "                \"your first dependent\",\n",
    "                \"your second dependent\",\n",
    "            ],\n",
    "            \"state_name\": {\"2025\": \"TX\", \"2026\": \"TX\"},\n",
    "        }\n",
    "    },\n",
    "    \"axes\": [[{\"name\": \"employment_income\", \"count\": 2000, \"min\": 0, \"max\": 1000000}]],\n",
    "}\n",
    "\n",
    "simulation = Simulation(\n",
    "    situation=situation,\n",
    ")\n",
    "\n",
    "# Calculate for both 2025 and 2026\n",
    "simulation = Simulation(situation=situation)\n",
    "\n",
    "# Calculate both metrics for each year\n",
    "results = {}\n",
    "for year in [2025, 2026]:\n",
    "    results[year] = {\n",
    "        \"salt_deduction\": simulation.calculate(\"salt_deduction\", year),\n",
    "        \"alternative_minimum_tax\": simulation.calculate(\n",
    "            \"alternative_minimum_tax\", year\n",
    "        ),\n",
    "    }"
   ]
  },
  {
   "cell_type": "code",
   "execution_count": 3,
   "metadata": {},
   "outputs": [],
   "source": [
    "# Create separate DataFrames for each year\n",
    "for year in [2025, 2026]:\n",
    "    df = pd.DataFrame(\n",
    "        {\n",
    "            \"employment_income\": range(0, 1000000, 500),\n",
    "            \"salt_deduction\": results[year][\"salt_deduction\"],\n",
    "            \"alternative_minimum_tax\": results[year][\"alternative_minimum_tax\"],\n",
    "        }\n",
    "    )\n",
    "\n",
    "    # Save to CSV with year in filename\n",
    "    df.to_csv(f\"../data/tax_calculations_{year}.csv\", index=False)"
   ]
  },
  {
   "cell_type": "code",
   "execution_count": null,
   "metadata": {},
   "outputs": [],
   "source": []
  }
 ],
 "metadata": {
  "kernelspec": {
   "display_name": "pe",
   "language": "python",
   "name": "python3"
  },
  "language_info": {
   "codemirror_mode": {
    "name": "ipython",
    "version": 3
   },
   "file_extension": ".py",
   "mimetype": "text/x-python",
   "name": "python",
   "nbconvert_exporter": "python",
   "pygments_lexer": "ipython3",
   "version": "3.10.14"
  }
 },
 "nbformat": 4,
 "nbformat_minor": 2
}
